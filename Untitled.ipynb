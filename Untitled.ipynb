{
 "cells": [
  {
   "cell_type": "code",
   "execution_count": 1,
   "metadata": {},
   "outputs": [],
   "source": [
    "import pandas as pd\n",
    "import matplotlib.pyplot as plt\n",
    "import seaborn as sns\n",
    "from selenium import webdriver\n",
    "import time\n",
    "import webscraping"
   ]
  },
  {
   "cell_type": "code",
   "execution_count": 4,
   "metadata": {},
   "outputs": [],
   "source": [
    "webscraping.EPLPassing()"
   ]
  },
  {
   "cell_type": "code",
   "execution_count": 28,
   "metadata": {},
   "outputs": [
    {
     "name": "stdout",
     "output_type": "stream",
     "text": [
      "                        Club  Crosses  Corners  Total Passes  Through Passes  \\\n",
      "0            AFC Bournemouth      497      166         12739              51   \n",
      "1                    Arsenal      431      153         16196              49   \n",
      "2   Brighton and Hove Albion      496      124         10812              10   \n",
      "3                    Burnley      581      119         10933              26   \n",
      "4               Cardiff City      470      134          8239              30   \n",
      "5                    Chelsea      539      165         20666             122   \n",
      "6             Crystal Palace      490      175         12353              22   \n",
      "7                    Everton      651      162         13269              35   \n",
      "8                     Fulham      497      127         14020              24   \n",
      "9          Huddersfield Town      665      135         13375              17   \n",
      "10            Leicester City      654      177         13453              68   \n",
      "11                 Liverpool      583      204         19357              77   \n",
      "12           Manchester City      611      233         21181              86   \n",
      "13         Manchester United      526      162         15373              45   \n",
      "14          Newcastle United      597      152         11006              39   \n",
      "15               Southampton      527      142         11440              26   \n",
      "16         Tottenham Hotspur      526      154         16732              60   \n",
      "17                   Watford      431      138         11920              28   \n",
      "18           West Ham United      517      152         13272              57   \n",
      "19   Wolverhampton Wanderers      481      146         12860              45   \n",
      "\n",
      "    Long Passes  Backward Passes  \n",
      "0          1616             1789  \n",
      "1          1678             2441  \n",
      "2          2029             1563  \n",
      "3          2361             1692  \n",
      "4          1948             1142  \n",
      "5          1434             3243  \n",
      "6          1802             1818  \n",
      "7          1892             1891  \n",
      "8          2008             2145  \n",
      "9          2152             2085  \n",
      "10         1946             2006  \n",
      "11         1836             2804  \n",
      "12         1432             3414  \n",
      "13         1830             2162  \n",
      "14         2228             1650  \n",
      "15         1895             1611  \n",
      "16         1857             2542  \n",
      "17         1998             1825  \n",
      "18         1917             1807  \n",
      "19         2059             1937  \n"
     ]
    }
   ],
   "source": [
    "df0 = pd.read_csv(\"totalpass.csv\")\n",
    "df0 = df0.drop(columns=['Unnamed: 0', 'Rank'])\n",
    "df0.rename(columns={'Stat':'Total Passes'}, inplace=True)\n",
    "df0 = df0.sort_values(['Club'])\n",
    "\n",
    "df1 = pd.read_csv(\"totalthrough.csv\")\n",
    "df1 = df1.drop(columns=['Unnamed: 0', 'Rank'])\n",
    "df1.rename(columns={'Stat':'Through Passes'}, inplace=True)\n",
    "df1 = df1.sort_values(['Club'])\n",
    "\n",
    "df2 = pd.read_csv(\"totallong.csv\")\n",
    "df2 = df2.drop(columns=['Unnamed: 0', 'Rank'])\n",
    "df2.rename(columns={'Stat':'Long Passes'}, inplace=True)\n",
    "df2 = df2.sort_values(['Club'])\n",
    "\n",
    "df3 = pd.read_csv(\"backward_pass.csv\")\n",
    "df3 = df3.drop(columns=['Unnamed: 0', 'Rank'])\n",
    "df3.rename(columns={'Stat':'Backward Passes'}, inplace=True)\n",
    "df3 = df3.sort_values(['Club'])\n",
    "\n",
    "df4 = pd.read_csv(\"crosses.csv\")\n",
    "df4 = df4.drop(columns=['Unnamed: 0', 'Rank'])\n",
    "df4.rename(columns={'Stat':'Crosses'}, inplace=True)\n",
    "df4 = df4.sort_values(['Club'])\n",
    "\n",
    "df5 = pd.read_csv(\"corners.csv\")\n",
    "df5 = df5.drop(columns=['Unnamed: 0', 'Rank'])\n",
    "df5.rename(columns={'Stat':'Corners'}, inplace=True)\n",
    "df5 = df5.sort_values(['Club'])\n",
    "\n",
    "result1 = pd.merge(df0, df1, on='Club')\n",
    "result2 = pd.merge(df2, df3, on='Club')\n",
    "result3 = pd.merge(df4, df5, on='Club')\n",
    "result4 = pd.merge(result1, result2, on='Club')\n",
    "result5 = pd.merge(result3, result4, on='Club')\n",
    "\n",
    "df = result5\n",
    "print(df)"
   ]
  },
  {
   "cell_type": "code",
   "execution_count": null,
   "metadata": {},
   "outputs": [],
   "source": []
  }
 ],
 "metadata": {
  "kernelspec": {
   "display_name": "Python 3",
   "language": "python",
   "name": "python3"
  },
  "language_info": {
   "codemirror_mode": {
    "name": "ipython",
    "version": 3
   },
   "file_extension": ".py",
   "mimetype": "text/x-python",
   "name": "python",
   "nbconvert_exporter": "python",
   "pygments_lexer": "ipython3",
   "version": "3.7.1"
  }
 },
 "nbformat": 4,
 "nbformat_minor": 2
}

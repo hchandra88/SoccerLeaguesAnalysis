{
 "cells": [
  {
   "cell_type": "markdown",
   "metadata": {},
   "source": [
    "# Project Introduction\n",
    "\n",
    "Sit down with a non-soccer fan and ask them what their least favorite thing about soccer is. More likely than not, they'll say, \"You could sit in front of your television for 90 minutes and watch a game which ends 0-0. What's the fun in that? Who's the winner?\" So that begs the question...\n",
    "\n",
    "Q: How do you win a game of soccer? What's important? What will change the game?\n",
    "\n",
    "A: Goals. Goals. Goals.\n",
    "\n",
    "To show this, let's try to devise a strategy from a coach's standpoint...\n",
    "1. Instruct all your players to spend the game defending and attempting to prevent the opponent from scoring?\n",
    "2. Prevent your opponent from coming close to your goal by commiting fouls? But you can only commit so many fouls before the referee steps in to issues punishment, which limits our scope for future fouls. \n",
    "3. Minimize the amount of time for which the ball is \"in play\" by constantly putting it out-of-bounds?\n",
    "4. Spend all our energy attacking and try to out-score our opponent?\n",
    "\n",
    "In an ideal world, strategies 1-3 prevent our opponent from scoring. However at best, we still end up with our dreaded 0-0 so we should pick strategy 4 -- go for goals."
   ]
  },
  {
   "cell_type": "markdown",
   "metadata": {},
   "source": [
    "### Project Summary\n",
    "In this project I will take a look at teams from the top 5 leagues in Europe (England, Spain, Germany, Italy, and France) and how they \"go for the goals\". This comparison will give us an idea of how these teams perform domestically and what makes them so good. Next, we will look at how these same teams perform in the UEFA Champions League (UCL). For those unfamiliar with soccer, the UCL is an annual tournament in which the top teams from several leagues across Europe vie for the title of \"Best Team in Europe\". In the past decade the tournament has been primarily dominated by Spanish and German teams which has prompted soccer fans to ask what prevents teams from other leagues from winning on the European stage despite boasting great numbers domestically. The English Premier League (EPL) is considered by many soccer fans to be the most competetive and best league around the world so it is surprising to see English teams fail on a regular basis in comparison to their Spanish and German counterparts. As such, the last part of this project will be an analysis of the play-style of Premier League teams to idetnify what prevents them from succeeding in the UEFA Champions League."
   ]
  },
  {
   "cell_type": "markdown",
   "metadata": {},
   "source": [
    "### File Structure\n",
    "\n",
    "The following files contain goalscoring analytics for each of the top 5 leagues in Europe...\n",
    "1. EPL.ipynb (England)\n",
    "2. LaLiga.ipynb (Spain)\n",
    "3. Bundesliga.ipynb (Germany)\n",
    "4. SerieA.ipynb (Italy)\n",
    "5. Ligue1.ipynb (France)\n",
    "\n",
    "UCL.ipynb contains similar goalscoring statistics for the top teams in the UEFA Champions League. Meanwhile, webscraping.py contains several methods to automate the data collection process of this project where data was taken from Fox Sports. Finally, the CSV files in this repository contain said data taken from Fox Sports."
   ]
  },
  {
   "cell_type": "code",
   "execution_count": null,
   "metadata": {},
   "outputs": [],
   "source": []
  }
 ],
 "metadata": {
  "kernelspec": {
   "display_name": "Python 3",
   "language": "python",
   "name": "python3"
  },
  "language_info": {
   "codemirror_mode": {
    "name": "ipython",
    "version": 3
   },
   "file_extension": ".py",
   "mimetype": "text/x-python",
   "name": "python",
   "nbconvert_exporter": "python",
   "pygments_lexer": "ipython3",
   "version": "3.7.1"
  }
 },
 "nbformat": 4,
 "nbformat_minor": 2
}

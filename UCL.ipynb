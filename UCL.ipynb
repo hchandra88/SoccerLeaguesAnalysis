{
 "cells": [
  {
   "cell_type": "code",
   "execution_count": 8,
   "metadata": {},
   "outputs": [],
   "source": [
    "import pandas as pd\n",
    "import matplotlib.pyplot as plt\n",
    "import seaborn as sns\n",
    "from selenium import webdriver\n",
    "import time"
   ]
  },
  {
   "cell_type": "markdown",
   "metadata": {},
   "source": [
    "### Let's take a look at the top teams in the UEFA Champions League (UCL)"
   ]
  },
  {
   "cell_type": "code",
   "execution_count": 17,
   "metadata": {},
   "outputs": [
    {
     "name": "stdout",
     "output_type": "stream",
     "text": [
      "          Name  Total goals  Goals/Game\n",
      "0    Man. City           30        3.00\n",
      "1    Barcelona           26        2.17\n",
      "2    Liverpool           24        1.85\n",
      "3         Ajax           22        1.83\n",
      "4        Paris           20        2.50\n",
      "5        Porto           20        2.00\n",
      "6    Tottenham           20        1.54\n",
      "7       Bayern           16        2.00\n",
      "8  Real Madrid           15        1.88\n",
      "9         Roma           14        1.75\n"
     ]
    }
   ],
   "source": [
    "#data cleaning\n",
    "df = pd.read_csv(\"uclTopGoals.csv\")\n",
    "df = df.head(n=10)\n",
    "df = df.drop(columns=['Unnamed: 0', 'Total goals against', 'Average conceded', 'Goal difference'])\n",
    "df.rename(columns={'Team':'Name', 'Average scored':'Goals/Game'}, inplace=True)\n",
    "print(df)"
   ]
  },
  {
   "cell_type": "code",
   "execution_count": 21,
   "metadata": {},
   "outputs": [
    {
     "data": {
      "image/png": "[encoded data removed]",
      "text/plain": [
       "<Figure size 432x288 with 1 Axes>"
      ]
     },
     "metadata": {
      "needs_background": "light"
     },
     "output_type": "display_data"
    }
   ],
   "source": [
    "#visualization of top scorers per game\n",
    "df1 = df.sort_values(['Goals/Game'], ascending=False)\n",
    "bar1 = sns.barplot(x='Goals/Game', y='Name', data=df1)\n",
    "#bar1.set_xticklabels(bar1.get_xticklabels(),rotation=90)\n",
    "plt.title('Average Goals per Game for the Top Teams in UCL')\n",
    "plt.show()"
   ]
  },
  {
   "cell_type": "markdown",
   "metadata": {},
   "source": [
    "For those unfamiliar with soccer, I have listed the country of each of the above teams...\n",
    "1. Man. City (England)\n",
    "2. Paris (France)\n",
    "3. Barcelona (Spain)\n",
    "4. Porto (Portugal)\n",
    "5. Bayern (Germany)\n",
    "6. Real Madrid (Spain)\n",
    "7. Liverpool (England)\n",
    "8. Ajax (Netherlands)\n",
    "9. Roma (Italy)\n",
    "10. Tottenham (England)"
   ]
  },
  {
   "cell_type": "code",
   "execution_count": null,
   "metadata": {},
   "outputs": [],
   "source": []
  }
 ],
 "metadata": {
  "kernelspec": {
   "display_name": "Python 3",
   "language": "python",
   "name": "python3"
  },
  "language_info": {
   "codemirror_mode": {
    "name": "ipython",
    "version": 3
   },
   "file_extension": ".py",
   "mimetype": "text/x-python",
   "name": "python",
   "nbconvert_exporter": "python",
   "pygments_lexer": "ipython3",
   "version": "3.7.1"
  }
 },
 "nbformat": 4,
 "nbformat_minor": 2
}

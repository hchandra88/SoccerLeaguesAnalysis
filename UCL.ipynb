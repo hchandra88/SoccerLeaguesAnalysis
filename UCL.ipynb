{
 "cells": [
  {
   "cell_type": "code",
   "execution_count": 2,
   "metadata": {},
   "outputs": [],
   "source": [
    "import pandas as pd\n",
    "import matplotlib.pyplot as plt\n",
    "import seaborn as sns\n",
    "from selenium import webdriver\n",
    "import time"
   ]
  },
  {
   "cell_type": "markdown",
   "metadata": {},
   "source": [
    "### Let's take a look at the top teams in the UEFA Champions League (UCL)"
   ]
  },
  {
   "cell_type": "code",
   "execution_count": 3,
   "metadata": {},
   "outputs": [
    {
     "name": "stdout",
     "output_type": "stream",
     "text": [
      "               Name  Games  Goals  Goals/Game\n",
      "0              Ajax     14     29    2.071429\n",
      "1    ManchesterCity      8     26    3.250000\n",
      "2           ParisSG      8     20    2.500000\n",
      "3         Barcelona      8     19    2.375000\n",
      "4           FCPorto      8     19    2.375000\n",
      "5           RedStar     14     17    1.214286\n",
      "6      BayernMunich      8     16    2.000000\n",
      "7        RealMadrid      8     15    1.875000\n",
      "8              Roma      8     14    1.750000\n",
      "9  TottenhamHotspur      8     13    1.625000\n"
     ]
    }
   ],
   "source": [
    "#data cleaning\n",
    "df = pd.read_csv(\"uclTopGoals.csv\")\n",
    "df = df.head(n=10)\n",
    "df = df.drop(columns=['Unnamed: 0', 'YC', 'RC'])\n",
    "df.rename(columns={'STANDARD':'Name', 'GP': 'Games', 'GF':'Goals'}, inplace=True)\n",
    "for i in range(10):\n",
    "    if(df.at[i, 'Name'].split()[1] == df.at[i, 'Name'].split()[2]):\n",
    "        df.at[i, 'Name'] = df.at[i, 'Name'].split()[1]\n",
    "    else:\n",
    "        df.at[i, 'Name'] = df.at[i, 'Name'].split()[1] + df.at[i, 'Name'].split()[2]\n",
    "    df.at[i, 'Goals/Game'] = (df.at[i, 'Goals']/df.at[i, 'Games'])\n",
    "print(df)"
   ]
  },
  {
   "cell_type": "code",
   "execution_count": 4,
   "metadata": {},
   "outputs": [
    {
     "data": {
      "image/png": "[encoded data removed]",
      "text/plain": [
       "<Figure size 432x288 with 1 Axes>"
      ]
     },
     "metadata": {
      "needs_background": "light"
     },
     "output_type": "display_data"
    }
   ],
   "source": [
    "#visualization of top scorers per game\n",
    "#df1 = df.sort_values(['Goals/Game'])\n",
    "bar1 = sns.barplot(x='Goals/Game', y='Name', data=df)\n",
    "#bar1.set_xticklabels(bar1.get_xticklabels(),rotation=90)\n",
    "plt.title('Average Goals per Game for the Top Teams in UCL')\n",
    "plt.show()"
   ]
  },
  {
   "cell_type": "markdown",
   "metadata": {},
   "source": [
    "For those unfamiliar with soccer, I have listed the leagues of each of the above teams...\n",
    "1. Manchester City (England)\n",
    "2. Paris SG (France)\n",
    "3. FC Porto (Portugal)\n",
    "4. Barcelona (Spain)\n",
    "5. Ajax (Netherlands)\n",
    "6. Bayern Munich (Germany)\n",
    "7. Real Madrid (Spain)\n",
    "8. Roma (Italy)\n",
    "9. Tottenham Hotspur (England)\n",
    "10. Red Star Belgrade (Serbia)\n",
    "\n",
    "\n",
    "Barring Manchester City (who scored 7 goals in a single game) and considering Tottenham Hotspur barely make the cut, English teams fail to impose their alleged higher quality on a European stage."
   ]
  },
  {
   "cell_type": "code",
   "execution_count": null,
   "metadata": {},
   "outputs": [],
   "source": []
  }
 ],
 "metadata": {
  "kernelspec": {
   "display_name": "Python 3",
   "language": "python",
   "name": "python3"
  },
  "language_info": {
   "codemirror_mode": {
    "name": "ipython",
    "version": 3
   },
   "file_extension": ".py",
   "mimetype": "text/x-python",
   "name": "python",
   "nbconvert_exporter": "python",
   "pygments_lexer": "ipython3",
   "version": "3.7.1"
  }
 },
 "nbformat": 4,
 "nbformat_minor": 2
}

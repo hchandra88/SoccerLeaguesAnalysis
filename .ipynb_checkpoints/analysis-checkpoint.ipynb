{
 "cells": [
  {
   "cell_type": "code",
   "execution_count": 12,
   "metadata": {},
   "outputs": [],
   "source": [
    "import pandas as pd\n",
    "import matplotlib.pyplot as plt\n",
    "import seaborn as sns\n",
    "import numpy as np\n",
    "from selenium import webdriver\n",
    "import time"
   ]
  },
  {
   "cell_type": "markdown",
   "metadata": {},
   "source": [
    "Who are the top scorers in the prem?"
   ]
  },
  {
   "cell_type": "code",
   "execution_count": 14,
   "metadata": {},
   "outputs": [
    {
     "name": "stdout",
     "output_type": "stream",
     "text": [
      "                                             STANDARD  GP  GS    MP   G   A  \\\n",
      "0                   1  Aguero, Sergio  Aguero, S. MCI  24  22  1116  18   6   \n",
      "1                    2  Salah, Mohamed  Salah, M. LIV  28  27  1614  17   6   \n",
      "2   3  Aubameyang, Pierre-Emerick  Aubameyang, P. ARS  27  24  1478  16   3   \n",
      "3                        4  Kane, Harry  Kane, H. TOT  24  23  1263  15   4   \n",
      "4                        5  Mane, Sadio  Mane, S. LIV  26  25  1490  14   1   \n",
      "5          6  Lacazette, Alexandre  Lacazette, A. ARS  27  19  1209  12   5   \n",
      "6                     6  Hazard, Eden  Hazard, E. CHE  26  23  1413  12  10   \n",
      "7               6  Sterling, Raheem  Sterling, R. MCI  25  22  1404  12   8   \n",
      "8            9  Sigurdsson, Gylfi  Sigurdsson, G. EVE  28  26  1514  11   3   \n",
      "9                       9  Pogba, Paul  Pogba, P. MUN  25  24  1326  11   9   \n",
      "10               9  Heung-min, Son  Heung-min, S. TOT  22  17  1267  11   5   \n",
      "11                  12  Murray, Glenn  Murray, G. BHA  27  22  1120  10   0   \n",
      "12                 12  Wilson, Callum  Wilson, C. BOU  21  20   944  10   5   \n",
      "13                 12  Lukaku, Romelu  Lukaku, R. MUN  25  16   861  10   0   \n",
      "14                  12  Richarlison  Richarlison  EVE  26  24  1469  10   1   \n",
      "15                 12  Jimenez, Raul  Jimenez, R. WLV  28  27  1548  10   5   \n",
      "16         12  Mitrovic, Aleksandar  Mitrovic, A. FUL  28  28  1661  10   2   \n",
      "17                     18  King, Joshua  King, J. BOU  25  24  1349   9   3   \n",
      "18                    18  Vardy, Jamie  Vardy, J. LEI  24  20  1322   9   3   \n",
      "19              18  Firmino, Roberto  Firmino, R. LIV  27  25  1393   9   5   \n",
      "20              18  Martial, Anthony  Martial, A. MUN  20  15   927   9   2   \n",
      "21             18  Rashford, Marcus  Rashford, M. MUN  24  18  1320   9   5   \n",
      "22                 23  Barnes, Ashley  Barnes, A. BUR  27  16  1283   8   2   \n",
      "23                              23  Pedro  Pedro  CHE  22  16   956   8   1   \n",
      "24                      23  Sane, Leroy  Sane, L. MCI  24  18  1118   8   9   \n",
      "25         23  Milivojevic, Luka  Milivojevic, L. CRY  28  28  1710   8   1   \n",
      "26          23  Felipe Anderson  Felipe Anderson  WHU  28  28  1645   8   3   \n",
      "27                      28  Wood, Chris  Wood, C. BUR  28  19  1360   7   0   \n",
      "28                      28  Ings, Danny  Ings, D. SOU  18  17   647   7   1   \n",
      "29          28  Arnautovic, Marko  Arnautovic, M. WHU  19  17   740   7   3   \n",
      "30                   28  Zaha, Wilfried  Zaha, W. CRY  24  24  1434   7   2   \n",
      "31                   28  Deeney, Troy  Deeney, T. WAT  25  22  1351   7   3   \n",
      "32                28  Rondon, Salomon  Rondon, S. NEW  22  20  1497   7   4   \n",
      "33        34  Mkhitaryan, Henrikh  Mkhitaryan, H. ARS  17  12   627   6   4   \n",
      "34                  34  Jesus, Gabriel  Jesus, G. MCI  21   7   546   6   2   \n",
      "35                    34  Silva, David  Silva, D. MCI  24  20  1136   6   4   \n",
      "36                  34  Lucas Moura  Lucas Moura  TOT  23  17   684   6   0   \n",
      "37             34  Deulofeu, Gerard  Deulofeu, G. WAT  21  18  1378   6   3   \n",
      "38              34  Pereyra, Roberto  Pereyra, R. WAT  26  26  1449   6   2   \n",
      "39                  34  Brooks, David  Brooks, D. BOU  22  21  1045   6   4   \n",
      "40              34  Shaqiri, Xherdan  Shaqiri, X. LIV  21  11   829   6   2   \n",
      "41              34  Schurrle, Andre  Schurrle, A. FUL  22  21   932   6   0   \n",
      "42                    43  Duffy, Shane  Duffy, S. BHA  24  24  1288   5   1   \n",
      "43                   43  Fraser, Ryan  Fraser, R. BOU  28  26  1523   5   9   \n",
      "44                 43  Morata, Alvaro  Morata, A. CHE  16  11   501   5   0   \n",
      "45  43  Calvert-Lewin, Dominic  Calvert-Lewin, D. EVE  26  10   663   5   1   \n",
      "46                  43  Mahrez, Riyad  Mahrez, R. MCI  22  11   610   5   2   \n",
      "47              43  Gundogan, Ilkay  Gundogan, I. MCI  22  14   972   5   2   \n",
      "48                 43  Silva, Bernardo  Silva, B. MCI  27  23  1416   5   6   \n",
      "49                       43  Alli, Dele  Alli, D. TOT  17  14   837   5   0   \n",
      "\n",
      "    SOG   S  YC  RC  \n",
      "0    33  90   4   0  \n",
      "1    47  94   0   0  \n",
      "2    28  68   0   0  \n",
      "3    44  86   5   0  \n",
      "4    32  61   1   0  \n",
      "5    27  58   2   0  \n",
      "6    31  67   2   0  \n",
      "7    27  50   2   0  \n",
      "8    23  63   3   0  \n",
      "9    42  81   3   0  \n",
      "10   22  55   2   0  \n",
      "11   18  38   3   0  \n",
      "12   18  47   3   0  \n",
      "13   24  43   3   0  \n",
      "14   20  54   3   1  \n",
      "15   32  87   3   0  \n",
      "16   37  96   6   0  \n",
      "17   19  49   2   0  \n",
      "18   26  48   3   1  \n",
      "19   29  55   0   0  \n",
      "20   17  30   2   0  \n",
      "21   30  57   3   1  \n",
      "22   23  45   5   0  \n",
      "23   22  43   1   0  \n",
      "24   17  42   1   0  \n",
      "25   19  44   8   0  \n",
      "26   19  43   3   0  \n",
      "27   19  43   2   0  \n",
      "28   19  43   1   0  \n",
      "29   22  44   3   0  \n",
      "30   21  57   8   0  \n",
      "31   22  52   3   0  \n",
      "32   17  54   1   0  \n",
      "33   11  35   0   0  \n",
      "34   21  35   0   0  \n",
      "35   17  44   1   0  \n",
      "36    9  26   2   0  \n",
      "37   11  36   2   0  \n",
      "38   18  47   3   0  \n",
      "39   20  37   2   0  \n",
      "40   10  24   2   0  \n",
      "41   19  52   2   0  \n",
      "42   13  26   4   1  \n",
      "43   19  32   1   0  \n",
      "44   16  35   3   0  \n",
      "45   10  23   3   0  \n",
      "46   17  38   0   0  \n",
      "47    9  29   2   0  \n",
      "48   14  37   3   0  \n",
      "49   14  26   2   0  \n"
     ]
    }
   ],
   "source": [
    "#data collection\n",
    "def get_premTopGoals():\n",
    "    browser = webdriver.Firefox()\n",
    "    browser.get('https://www.foxsports.com/soccer/stats?competition=1&season=20180&category=STANDARD&pos=0&team=0&sort=3&sortOrder=0')\n",
    "    time.sleep(3)\n",
    "    table = browser.find_element_by_class_name('wisbb_standardTable').get_attribute('outerHTML')\n",
    "    data = pd.read_html(table)\n",
    "    data_df = data[0]\n",
    "    print(data_df)\n",
    "    data_df.to_csv('premTopGoals.csv')\n",
    "    browser.close()\n",
    "get_premTopGoals()"
   ]
  },
  {
   "cell_type": "code",
   "execution_count": 26,
   "metadata": {},
   "outputs": [
    {
     "data": {
      "image/png": "[encoded data removed]",
      "text/plain": [
       "<Figure size 432x288 with 1 Axes>"
      ]
     },
     "metadata": {
      "needs_background": "light"
     },
     "output_type": "display_data"
    }
   ],
   "source": [
    "df = pd.read_csv(\"premTopGoals.csv\")\n",
    "df = df.head(n=5)\n",
    "\n",
    "#visualization of top scorers\n",
    "ax = sns.scatterplot(x = \"GP\", y = \"G\", color = \"blue\", data = df)\n",
    "ax.set_title(\"Goals Scored vs. Games Played\")\n",
    "#plt.show()\n",
    "\n",
    "def label_point(x, y, val, ax):\n",
    "    a = pd.concat({'x': x, 'y': y, 'val': val}, axis=1)\n",
    "    for i, point in a.iterrows():\n",
    "        ax.text(point['x'], point['y'], str(point['val']))\n",
    "\n",
    "label_point(df.GP, df.G, df.STANDARD, ax)\n",
    "plt.show()"
   ]
  },
  {
   "cell_type": "code",
   "execution_count": null,
   "metadata": {},
   "outputs": [],
   "source": []
  }
 ],
 "metadata": {
  "kernelspec": {
   "display_name": "Python 3",
   "language": "python",
   "name": "python3"
  },
  "language_info": {
   "codemirror_mode": {
    "name": "ipython",
    "version": 3
   },
   "file_extension": ".py",
   "mimetype": "text/x-python",
   "name": "python",
   "nbconvert_exporter": "python",
   "pygments_lexer": "ipython3",
   "version": "3.7.1"
  }
 },
 "nbformat": 4,
 "nbformat_minor": 2
}
